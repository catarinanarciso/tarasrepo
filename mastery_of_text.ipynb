{
 "cells": [
  {
   "cell_type": "code",
   "execution_count": 1,
   "id": "e83ee25c",
   "metadata": {},
   "outputs": [],
   "source": [
    "import urllib.request\n",
    "\n",
    "url = \"https://www.gutenberg.org/cache/epub/10/pg10.txt\"\n",
    "\n",
    "response = urllib.request.urlopen(url)\n",
    "\n",
    "raw_text_bytes = response.read()\n",
    "\n",
    "pg10 = raw_text_bytes.decode('utf-8')"
   ]
  },
  {
   "cell_type": "code",
   "execution_count": 3,
   "id": "39740420",
   "metadata": {},
   "outputs": [
    {
     "name": "stdout",
     "output_type": "stream",
     "text": [
      "﻿The Project Gutenberg eBook of The King James Version of the Bible\r\n",
      "    \r\n",
      "This ebook is for the use of anyone anywhere in the United States and\r\n",
      "most other parts of the world at no cost and with almost no restrictions\r\n",
      "whatsoever. You may copy it, give it away or re-use it under the terms\r\n",
      "of the Project Gutenberg License included with this ebook or online\r\n",
      "at www.gutenberg.org. If you are not located in the United States,\r\n",
      "you will have to check the laws of the country where you are located\r\n",
      "b\n"
     ]
    }
   ],
   "source": [
    "print(pg10[:500])"
   ]
  },
  {
   "cell_type": "code",
   "execution_count": 20,
   "id": "e1eb3e12",
   "metadata": {},
   "outputs": [
    {
     "name": "stdout",
     "output_type": "stream",
     "text": [
      "The string has 99968 lines.\n"
     ]
    }
   ],
   "source": [
    "# How many lines does the string have?\n",
    "\n",
    "num_lines = len(pg10.splitlines())\n",
    "\n",
    "print(f\"The string has {num_lines} lines.\")"
   ]
  },
  {
   "cell_type": "code",
   "execution_count": 21,
   "id": "99e8666e",
   "metadata": {},
   "outputs": [
    {
     "name": "stdout",
     "output_type": "stream",
     "text": [
      "The string has 795227 lines.\n"
     ]
    }
   ],
   "source": [
    "# How many words does the string have?\n",
    "\n",
    "cleaned_text = \"\"\n",
    "\n",
    "for char in pg10:\n",
    "    if char.isalpha() or char.isspace():\n",
    "        cleaned_text += char\n",
    "    else:\n",
    "        cleaned_text += \" \"\n",
    "\n",
    "words = cleaned_text.split()\n",
    "\n",
    "word_count = len(words)\n",
    "\n",
    "print(f\"The string has {word_count} lines.\")"
   ]
  },
  {
   "cell_type": "code",
   "execution_count": 24,
   "id": "39cfc24e",
   "metadata": {},
   "outputs": [
    {
     "name": "stdout",
     "output_type": "stream",
     "text": [
      "The word 'apostle' appears 47 times.\n"
     ]
    }
   ],
   "source": [
    "# How many times does the word \"apostle\" appear?\n",
    "\n",
    "lowercase_words = [word.lower() for word in words]\n",
    "apostle_count = lowercase_words.count(\"apostle\")\n",
    "\n",
    "print(f\"The word 'apostle' appears {apostle_count} times.\")"
   ]
  },
  {
   "cell_type": "code",
   "execution_count": 25,
   "id": "56b787f5",
   "metadata": {},
   "outputs": [
    {
     "name": "stdout",
     "output_type": "stream",
     "text": [
      "The most common word is 'the', which appears 64309 times.\n"
     ]
    }
   ],
   "source": [
    "# What is the most common word, ignoring capitalization, in the string?\n",
    "\n",
    "word_counts = {}\n",
    "\n",
    "for word in lowercase_words:\n",
    "    word_counts[word] = word_counts.get(word, 0) + 1\n",
    "\n",
    "most_common_word = max(word_counts, key=word_counts.get)\n",
    "most_common_word_count = word_counts[most_common_word]\n",
    "\n",
    "print(f\"The most common word is '{most_common_word}', which appears {most_common_word_count} times.\")"
   ]
  },
  {
   "cell_type": "code",
   "execution_count": null,
   "id": "a920e951",
   "metadata": {},
   "outputs": [],
   "source": []
  }
 ],
 "metadata": {
  "kernelspec": {
   "display_name": "Python 3 (ipykernel)",
   "language": "python",
   "name": "python3"
  },
  "language_info": {
   "codemirror_mode": {
    "name": "ipython",
    "version": 3
   },
   "file_extension": ".py",
   "mimetype": "text/x-python",
   "name": "python",
   "nbconvert_exporter": "python",
   "pygments_lexer": "ipython3",
   "version": "3.10.9"
  }
 },
 "nbformat": 4,
 "nbformat_minor": 5
}
